{
 "cells": [
  {
   "cell_type": "code",
   "execution_count": 18,
   "metadata": {},
   "outputs": [],
   "source": [
    "import re\n",
    "from bs4 import BeautifulSoup\n",
    "import requests\n",
    "import pandas as pd\n",
    "\n"
   ]
  },
  {
   "cell_type": "markdown",
   "metadata": {},
   "source": [
    "1. Scrape Mars News Website"
   ]
  },
  {
   "cell_type": "code",
   "execution_count": 19,
   "metadata": {
    "collapsed": true
   },
   "outputs": [],
   "source": [
    "url_1 = \"https://mars.nasa.gov/news/\"\n",
    "html_1 = requests.get(url_1)\n",
    "soup_1 = BeautifulSoup(html_1.text, 'html.parser')\n"
   ]
  },
  {
   "cell_type": "code",
   "execution_count": 20,
   "metadata": {},
   "outputs": [
    {
     "name": "stdout",
     "output_type": "stream",
     "text": [
      "Mount Sharp 'Photobombs' Mars Curiosity Rover\n"
     ]
    }
   ],
   "source": [
    "results1 = soup_1.find('div', class_='content_title')\n",
    "news_title = results1.text.strip()\n",
    "print(news_title)\n"
   ]
  },
  {
   "cell_type": "code",
   "execution_count": 21,
   "metadata": {},
   "outputs": [
    {
     "name": "stdout",
     "output_type": "stream",
     "text": [
      "A new self-portrait of NASA's Curiosity Mars rover shows the vehicle on Vera Rubin Ridge.\n"
     ]
    }
   ],
   "source": [
    "results2 = soup_1.find('div', class_='image_and_description_container')\n",
    "\n",
    "news_body = results2.text.strip()\n",
    "print(news_body)\n"
   ]
  },
  {
   "cell_type": "markdown",
   "metadata": {
    "collapsed": true
   },
   "source": [
    ".2 - Scrape Mars Featured Image (not working in Jupyter Notebook - working in Python)"
   ]
  },
  {
   "cell_type": "code",
   "execution_count": 22,
   "metadata": {
    "collapsed": true
   },
   "outputs": [],
   "source": [
    "# import re\n",
    "# from splinter import Browser\n",
    "# from bs4 import BeautifulSoup\n",
    "\n",
    "# browser = Browser('chrome', headless=False)\n",
    "# url2 = 'https://www.jpl.nasa.gov/spaceimages/?search=&category=Mars'\n",
    "# browser.visit(url2)\n",
    "\n",
    "# browser.click_link_by_partial_text('FULL IMAGE')\n",
    "# html2 = browser.html\n",
    "# soup2 = BeautifulSoup(html2, 'html.parser')\n",
    "\n",
    "# links = soup2.find('div', class_=\"carousel_items\")\n",
    "\n",
    "# tag = links.find('a', class_='button fancybox')\n",
    "# link = \"https://www.jpl.nasa.gov\" + tag.get('data-fancybox-href')\n",
    "# print(link)\n",
    "\n",
    "## WORKS IN PYTHON PIC.PY SCRIPT ##"
   ]
  },
  {
   "cell_type": "markdown",
   "metadata": {},
   "source": [
    "3.\n",
    "Scrape Twitter"
   ]
  },
  {
   "cell_type": "code",
   "execution_count": 23,
   "metadata": {},
   "outputs": [
    {
     "name": "stdout",
     "output_type": "stream",
     "text": [
      "Sol 1954 (Feb 03, 2018), Sunny, high -17C/1F, low -77C/-106F, pressure at 7.45 hPa, daylight 05:42-17:27\n"
     ]
    }
   ],
   "source": [
    "url_2 = \"https://twitter.com/marswxreport?lang=en\"\n",
    "html_2 = requests.get(url_2)\n",
    "soup_2 = BeautifulSoup(html_2.text, 'html.parser')\n",
    "\n",
    "tweet_1 = soup_2.find('p', class_='TweetTextSize TweetTextSize--normal js-tweet-text tweet-text')\n",
    "#print(tweet_1.prettify())\n",
    "\n",
    "weather_tweet = tweet_1.text\n",
    "print(weather_tweet)"
   ]
  },
  {
   "cell_type": "markdown",
   "metadata": {},
   "source": [
    ".4. Scrape Mars Facts"
   ]
  },
  {
   "cell_type": "code",
   "execution_count": 29,
   "metadata": {},
   "outputs": [
    {
     "data": {
      "text/plain": [
       "[                      0                              1\n",
       " 0  Equatorial Diameter:                       6,792 km\n",
       " 1       Polar Diameter:                       6,752 km\n",
       " 2                 Mass:  6.42 x 10^23 kg (10.7% Earth)\n",
       " 3                Moons:            2 (Phobos & Deimos)\n",
       " 4       Orbit Distance:       227,943,824 km (1.52 AU)\n",
       " 5         Orbit Period:           687 days (1.9 years)\n",
       " 6  Surface Temperature:                  -153 to 20 °C\n",
       " 7         First Record:              2nd millennium BC\n",
       " 8          Recorded By:           Egyptian astronomers]"
      ]
     },
     "execution_count": 29,
     "metadata": {},
     "output_type": "execute_result"
    }
   ],
   "source": [
    "url = 'https://space-facts.com/mars/'\n",
    "\n",
    "table_data = pd.read_html(url)\n",
    "table_data"
   ]
  },
  {
   "cell_type": "code",
   "execution_count": 31,
   "metadata": {},
   "outputs": [],
   "source": [
    "mars_df = table_data[0]\n",
    "mars_df.columns = ['description','value']\n",
    "mars_df.to_html('mars_table.html', index=False)\n",
    "!open mars_table.html"
   ]
  },
  {
   "cell_type": "markdown",
   "metadata": {},
   "source": [
    ".5. Scrape Hemisphere links ((not working in Jupyter Notebook - working in Python)"
   ]
  },
  {
   "cell_type": "code",
   "execution_count": null,
   "metadata": {
    "collapsed": true
   },
   "outputs": [],
   "source": [
    "\n",
    "# browser = Browser('chrome', executable_path='chromedriver', headless=False)\n",
    "\n",
    "# urls = ['https://astrogeology.usgs.gov/search/map/Mars/Viking/cerberus_enhanced', \n",
    "#         'https://astrogeology.usgs.gov/search/map/Mars/Viking/schiaparelli_enhanced', \n",
    "#         'https://astrogeology.usgs.gov/search/map/Mars/Viking/syrtis_major_enhanced', \n",
    "#         'https://astrogeology.usgs.gov/search/map/Mars/Viking/valles_marineris_enhanced']\n",
    "\n",
    "# #define empty lists\n",
    "# titles_list = []\n",
    "# image_urls_list= []\n",
    "\n",
    "# for url in urls:\n",
    "#     browser.visit(url)\n",
    "#     soup = BeautifulSoup(browser.html, 'html.parser')\n",
    "#     soup_1 = soup.find('section', class_=\"block metadata\")\n",
    "#     headers = soup_1.find('h2', class_='title')\n",
    "#     cleaned_title = headers.get_text().strip(\"Enhanced\")\n",
    "#     titles_list.append(cleaned_title)\n",
    "\n",
    "#     soup_links = soup.find('div', class_=\"downloads\")\n",
    "#     possible_links = soup_links.find_all('a')\n",
    "#     for link in possible_links:\n",
    "#         links_0 = link.attrs['href']\n",
    "#         image_urls_list.append(links_0)\n",
    "\n",
    " \n",
    "# print(titles_list)\n",
    "# print(image_urls_list)"
   ]
  },
  {
   "cell_type": "code",
   "execution_count": 34,
   "metadata": {},
   "outputs": [
    {
     "name": "stdout",
     "output_type": "stream",
     "text": [
      "[NbConvertApp] Converting notebook mission_to_mars.ipynb to script\n",
      "[NbConvertApp] Writing 3157 bytes to scrape_mars.py\n"
     ]
    }
   ],
   "source": [
    "import nbconvert\n",
    "\n",
    "! jupyter nbconvert --to script --template basic mission_to_mars.ipynb --output scrape_mars\n",
    "\n"
   ]
  },
  {
   "cell_type": "code",
   "execution_count": null,
   "metadata": {
    "collapsed": true
   },
   "outputs": [],
   "source": []
  },
  {
   "cell_type": "code",
   "execution_count": null,
   "metadata": {
    "collapsed": true
   },
   "outputs": [],
   "source": []
  },
  {
   "cell_type": "code",
   "execution_count": null,
   "metadata": {
    "collapsed": true
   },
   "outputs": [],
   "source": []
  }
 ],
 "metadata": {
  "kernelspec": {
   "display_name": "Python [conda env:PythonData]",
   "language": "python",
   "name": "conda-env-PythonData-py"
  },
  "language_info": {
   "codemirror_mode": {
    "name": "ipython",
    "version": 3
   },
   "file_extension": ".py",
   "mimetype": "text/x-python",
   "name": "python",
   "nbconvert_exporter": "python",
   "pygments_lexer": "ipython3",
   "version": "3.6.3"
  }
 },
 "nbformat": 4,
 "nbformat_minor": 2
}
